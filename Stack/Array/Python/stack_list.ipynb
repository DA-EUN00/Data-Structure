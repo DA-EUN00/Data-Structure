{
 "cells": [
  {
   "cell_type": "code",
   "execution_count": null,
   "metadata": {},
   "outputs": [
    {
     "name": "stdout",
     "output_type": "stream",
     "text": [
      "1. push  , 2. pop  : 1\n",
      "input data : 5\n",
      "stack : ['5']\n",
      "1. push  , 2. pop  : 1\n",
      "input data : 6\n",
      "stack : ['5', '6']\n",
      "1. push  , 2. pop  : 1\n",
      "input data : 8\n",
      "stack : ['5', '6', '8']\n",
      "1. push  , 2. pop  : 2\n",
      "8\n",
      "stack : ['5', '6']\n",
      "['5', '6']\n",
      "1. push  , 2. pop  : 1\n",
      "input data : 9\n",
      "stack : ['5', '6', '9']\n",
      "1. push  , 2. pop  : 1\n",
      "input data : 6\n",
      "stack : ['5', '6', '9', '6']\n"
     ]
    }
   ],
   "source": [
    "stack_list = list()\n",
    " \n",
    "def push(data):\n",
    "    stack_list.append(data)\n",
    "def pop():\n",
    "    if len(stack_list) > 0:\n",
    "        print(stack_list[-1])\n",
    "        del stack_list[-1]\n",
    "    else:\n",
    "        print(\"underflow\")\n",
    "while(1):\n",
    "    select = input(\"1. push  , 2. pop  : \")\n",
    "    \n",
    "    if select == \"1\":\n",
    "        data = input(\"input data : \")\n",
    "        push(data)\n",
    "        print(f\"stack : {stack_list}\")\n",
    "    elif select == \"2\":\n",
    "        pop()\n",
    "        print(f\"stack : {stack_list}\")\n",
    "        print(stack_list)\n",
    "    else:\n",
    "        break\n",
    " \n"
   ]
  },
  {
   "cell_type": "code",
   "execution_count": null,
   "metadata": {},
   "outputs": [],
   "source": []
  }
 ],
 "metadata": {
  "kernelspec": {
   "display_name": "Python 3",
   "language": "python",
   "name": "python3"
  },
  "language_info": {
   "codemirror_mode": {
    "name": "ipython",
    "version": 3
   },
   "file_extension": ".py",
   "mimetype": "text/x-python",
   "name": "python",
   "nbconvert_exporter": "python",
   "pygments_lexer": "ipython3",
   "version": "3.8.3"
  }
 },
 "nbformat": 4,
 "nbformat_minor": 4
}
